{
 "cells": [
  {
   "cell_type": "code",
   "execution_count": 19,
   "metadata": {},
   "outputs": [],
   "source": [
    "import numpy as np\n",
    "import pandas as pd\n",
    "\n",
    "from sklearn.linear_model import ( LogisticRegression )\n",
    "from sklearn.preprocessing import ( StandardScaler )\n",
    "from sklearn.decomposition import ( PCA )\n",
    "from sklearn.cluster import ( KMeans )\n",
    "\n",
    "import pickle\n",
    "\n",
    "import matplotlib.pyplot as plt\n",
    "import seaborn as sns\n",
    "\n",
    "sns.set()"
   ]
  },
  {
   "cell_type": "code",
   "execution_count": 2,
   "metadata": {},
   "outputs": [],
   "source": [
    "df_purchase = pd.read_csv('dataset/purchase_data.csv')"
   ]
  },
  {
   "cell_type": "code",
   "execution_count": 3,
   "metadata": {},
   "outputs": [],
   "source": [
    "pca = pickle.load(open('data/pca.pickle', 'rb'))\n",
    "scaler = pickle.load(open('data/scaler.pickle', 'rb'))\n",
    "kmeans_pca = pickle.load(open('data/kmeans_pca.pickle', 'rb'))"
   ]
  },
  {
   "cell_type": "code",
   "execution_count": 4,
   "metadata": {},
   "outputs": [],
   "source": [
    "features = df_purchase[ ['Sex', 'Marital status', 'Age', 'Education', 'Income', 'Occupation', 'Settlement size'] ]\n",
    "df_purchase_segm_std = scaler.transform(features)"
   ]
  },
  {
   "cell_type": "code",
   "execution_count": 5,
   "metadata": {},
   "outputs": [],
   "source": [
    "df_purchase_segm_pca = pca.transform(df_purchase_segm_std)\n",
    "purchase_segm_kmeans_pca = kmeans_pca.predict(df_purchase_segm_pca)"
   ]
  },
  {
   "cell_type": "code",
   "execution_count": 6,
   "metadata": {},
   "outputs": [],
   "source": [
    "df_purchase_predictors = df_purchase.copy()\n",
    "df_purchase_predictors['Segment'] = purchase_segm_kmeans_pca"
   ]
  },
  {
   "cell_type": "code",
   "execution_count": 7,
   "metadata": {},
   "outputs": [],
   "source": [
    "segment_dummies = pd.get_dummies(purchase_segm_kmeans_pca, prefix='Segment', prefix_sep='_')\n",
    "df_purchase_predictors = pd.concat([df_purchase_predictors, segment_dummies], axis=1)"
   ]
  },
  {
   "cell_type": "code",
   "execution_count": 9,
   "metadata": {},
   "outputs": [],
   "source": [
    "df_pa = df_purchase_predictors"
   ]
  },
  {
   "cell_type": "markdown",
   "metadata": {},
   "source": [
    "### Purchase Probability Model"
   ]
  },
  {
   "cell_type": "code",
   "execution_count": 10,
   "metadata": {},
   "outputs": [],
   "source": [
    "Y = df_pa['Incidence']"
   ]
  },
  {
   "cell_type": "code",
   "execution_count": 11,
   "metadata": {},
   "outputs": [],
   "source": [
    "X = pd.DataFrame()\n",
    "X['Mean Price'] = (\n",
    "    df_pa['Price_1'] +\n",
    "    df_pa['Price_2'] +\n",
    "    df_pa['Price_3'] +\n",
    "    df_pa['Price_4'] +\n",
    "    df_pa['Price_5']\n",
    ") / 5"
   ]
  },
  {
   "cell_type": "code",
   "execution_count": 15,
   "metadata": {},
   "outputs": [
    {
     "data": {
      "text/html": [
       "<style>#sk-container-id-2 {color: black;}#sk-container-id-2 pre{padding: 0;}#sk-container-id-2 div.sk-toggleable {background-color: white;}#sk-container-id-2 label.sk-toggleable__label {cursor: pointer;display: block;width: 100%;margin-bottom: 0;padding: 0.3em;box-sizing: border-box;text-align: center;}#sk-container-id-2 label.sk-toggleable__label-arrow:before {content: \"▸\";float: left;margin-right: 0.25em;color: #696969;}#sk-container-id-2 label.sk-toggleable__label-arrow:hover:before {color: black;}#sk-container-id-2 div.sk-estimator:hover label.sk-toggleable__label-arrow:before {color: black;}#sk-container-id-2 div.sk-toggleable__content {max-height: 0;max-width: 0;overflow: hidden;text-align: left;background-color: #f0f8ff;}#sk-container-id-2 div.sk-toggleable__content pre {margin: 0.2em;color: black;border-radius: 0.25em;background-color: #f0f8ff;}#sk-container-id-2 input.sk-toggleable__control:checked~div.sk-toggleable__content {max-height: 200px;max-width: 100%;overflow: auto;}#sk-container-id-2 input.sk-toggleable__control:checked~label.sk-toggleable__label-arrow:before {content: \"▾\";}#sk-container-id-2 div.sk-estimator input.sk-toggleable__control:checked~label.sk-toggleable__label {background-color: #d4ebff;}#sk-container-id-2 div.sk-label input.sk-toggleable__control:checked~label.sk-toggleable__label {background-color: #d4ebff;}#sk-container-id-2 input.sk-hidden--visually {border: 0;clip: rect(1px 1px 1px 1px);clip: rect(1px, 1px, 1px, 1px);height: 1px;margin: -1px;overflow: hidden;padding: 0;position: absolute;width: 1px;}#sk-container-id-2 div.sk-estimator {font-family: monospace;background-color: #f0f8ff;border: 1px dotted black;border-radius: 0.25em;box-sizing: border-box;margin-bottom: 0.5em;}#sk-container-id-2 div.sk-estimator:hover {background-color: #d4ebff;}#sk-container-id-2 div.sk-parallel-item::after {content: \"\";width: 100%;border-bottom: 1px solid gray;flex-grow: 1;}#sk-container-id-2 div.sk-label:hover label.sk-toggleable__label {background-color: #d4ebff;}#sk-container-id-2 div.sk-serial::before {content: \"\";position: absolute;border-left: 1px solid gray;box-sizing: border-box;top: 0;bottom: 0;left: 50%;z-index: 0;}#sk-container-id-2 div.sk-serial {display: flex;flex-direction: column;align-items: center;background-color: white;padding-right: 0.2em;padding-left: 0.2em;position: relative;}#sk-container-id-2 div.sk-item {position: relative;z-index: 1;}#sk-container-id-2 div.sk-parallel {display: flex;align-items: stretch;justify-content: center;background-color: white;position: relative;}#sk-container-id-2 div.sk-item::before, #sk-container-id-2 div.sk-parallel-item::before {content: \"\";position: absolute;border-left: 1px solid gray;box-sizing: border-box;top: 0;bottom: 0;left: 50%;z-index: -1;}#sk-container-id-2 div.sk-parallel-item {display: flex;flex-direction: column;z-index: 1;position: relative;background-color: white;}#sk-container-id-2 div.sk-parallel-item:first-child::after {align-self: flex-end;width: 50%;}#sk-container-id-2 div.sk-parallel-item:last-child::after {align-self: flex-start;width: 50%;}#sk-container-id-2 div.sk-parallel-item:only-child::after {width: 0;}#sk-container-id-2 div.sk-dashed-wrapped {border: 1px dashed gray;margin: 0 0.4em 0.5em 0.4em;box-sizing: border-box;padding-bottom: 0.4em;background-color: white;}#sk-container-id-2 div.sk-label label {font-family: monospace;font-weight: bold;display: inline-block;line-height: 1.2em;}#sk-container-id-2 div.sk-label-container {text-align: center;}#sk-container-id-2 div.sk-container {/* jupyter's `normalize.less` sets `[hidden] { display: none; }` but bootstrap.min.css set `[hidden] { display: none !important; }` so we also need the `!important` here to be able to override the default hidden behavior on the sphinx rendered scikit-learn.org. See: https://github.com/scikit-learn/scikit-learn/issues/21755 */display: inline-block !important;position: relative;}#sk-container-id-2 div.sk-text-repr-fallback {display: none;}</style><div id=\"sk-container-id-2\" class=\"sk-top-container\"><div class=\"sk-text-repr-fallback\"><pre>LogisticRegression(solver=&#x27;sag&#x27;)</pre><b>In a Jupyter environment, please rerun this cell to show the HTML representation or trust the notebook. <br />On GitHub, the HTML representation is unable to render, please try loading this page with nbviewer.org.</b></div><div class=\"sk-container\" hidden><div class=\"sk-item\"><div class=\"sk-estimator sk-toggleable\"><input class=\"sk-toggleable__control sk-hidden--visually\" id=\"sk-estimator-id-2\" type=\"checkbox\" checked><label for=\"sk-estimator-id-2\" class=\"sk-toggleable__label sk-toggleable__label-arrow\">LogisticRegression</label><div class=\"sk-toggleable__content\"><pre>LogisticRegression(solver=&#x27;sag&#x27;)</pre></div></div></div></div></div>"
      ],
      "text/plain": [
       "LogisticRegression(solver='sag')"
      ]
     },
     "execution_count": 15,
     "metadata": {},
     "output_type": "execute_result"
    }
   ],
   "source": [
    "model_purchase = LogisticRegression(solver='sag')\n",
    "model_purchase.fit(X, Y)"
   ]
  },
  {
   "cell_type": "code",
   "execution_count": 16,
   "metadata": {},
   "outputs": [
    {
     "data": {
      "text/plain": [
       "array([[-2.34803969]])"
      ]
     },
     "execution_count": 16,
     "metadata": {},
     "output_type": "execute_result"
    }
   ],
   "source": [
    "model_purchase.coef_"
   ]
  },
  {
   "cell_type": "markdown",
   "metadata": {},
   "source": [
    "#### Price Elasticity of Purchase Probability"
   ]
  },
  {
   "cell_type": "code",
   "execution_count": 18,
   "metadata": {},
   "outputs": [
    {
     "data": {
      "text/html": [
       "<div>\n",
       "<style scoped>\n",
       "    .dataframe tbody tr th:only-of-type {\n",
       "        vertical-align: middle;\n",
       "    }\n",
       "\n",
       "    .dataframe tbody tr th {\n",
       "        vertical-align: top;\n",
       "    }\n",
       "\n",
       "    .dataframe thead th {\n",
       "        text-align: right;\n",
       "    }\n",
       "</style>\n",
       "<table border=\"1\" class=\"dataframe\">\n",
       "  <thead>\n",
       "    <tr style=\"text-align: right;\">\n",
       "      <th></th>\n",
       "      <th>Price_1</th>\n",
       "      <th>Price_2</th>\n",
       "      <th>Price_3</th>\n",
       "      <th>Price_4</th>\n",
       "      <th>Price_5</th>\n",
       "    </tr>\n",
       "  </thead>\n",
       "  <tbody>\n",
       "    <tr>\n",
       "      <th>count</th>\n",
       "      <td>58693.000000</td>\n",
       "      <td>58693.000000</td>\n",
       "      <td>58693.000000</td>\n",
       "      <td>58693.000000</td>\n",
       "      <td>58693.000000</td>\n",
       "    </tr>\n",
       "    <tr>\n",
       "      <th>mean</th>\n",
       "      <td>1.392074</td>\n",
       "      <td>1.780999</td>\n",
       "      <td>2.006789</td>\n",
       "      <td>2.159945</td>\n",
       "      <td>2.654798</td>\n",
       "    </tr>\n",
       "    <tr>\n",
       "      <th>std</th>\n",
       "      <td>0.091139</td>\n",
       "      <td>0.170868</td>\n",
       "      <td>0.046867</td>\n",
       "      <td>0.089825</td>\n",
       "      <td>0.098272</td>\n",
       "    </tr>\n",
       "    <tr>\n",
       "      <th>min</th>\n",
       "      <td>1.100000</td>\n",
       "      <td>1.260000</td>\n",
       "      <td>1.870000</td>\n",
       "      <td>1.760000</td>\n",
       "      <td>2.110000</td>\n",
       "    </tr>\n",
       "    <tr>\n",
       "      <th>25%</th>\n",
       "      <td>1.340000</td>\n",
       "      <td>1.580000</td>\n",
       "      <td>1.970000</td>\n",
       "      <td>2.120000</td>\n",
       "      <td>2.630000</td>\n",
       "    </tr>\n",
       "    <tr>\n",
       "      <th>50%</th>\n",
       "      <td>1.390000</td>\n",
       "      <td>1.880000</td>\n",
       "      <td>2.010000</td>\n",
       "      <td>2.170000</td>\n",
       "      <td>2.670000</td>\n",
       "    </tr>\n",
       "    <tr>\n",
       "      <th>75%</th>\n",
       "      <td>1.470000</td>\n",
       "      <td>1.890000</td>\n",
       "      <td>2.060000</td>\n",
       "      <td>2.240000</td>\n",
       "      <td>2.700000</td>\n",
       "    </tr>\n",
       "    <tr>\n",
       "      <th>max</th>\n",
       "      <td>1.590000</td>\n",
       "      <td>1.900000</td>\n",
       "      <td>2.140000</td>\n",
       "      <td>2.260000</td>\n",
       "      <td>2.800000</td>\n",
       "    </tr>\n",
       "  </tbody>\n",
       "</table>\n",
       "</div>"
      ],
      "text/plain": [
       "            Price_1       Price_2       Price_3       Price_4       Price_5\n",
       "count  58693.000000  58693.000000  58693.000000  58693.000000  58693.000000\n",
       "mean       1.392074      1.780999      2.006789      2.159945      2.654798\n",
       "std        0.091139      0.170868      0.046867      0.089825      0.098272\n",
       "min        1.100000      1.260000      1.870000      1.760000      2.110000\n",
       "25%        1.340000      1.580000      1.970000      2.120000      2.630000\n",
       "50%        1.390000      1.880000      2.010000      2.170000      2.670000\n",
       "75%        1.470000      1.890000      2.060000      2.240000      2.700000\n",
       "max        1.590000      1.900000      2.140000      2.260000      2.800000"
      ]
     },
     "execution_count": 18,
     "metadata": {},
     "output_type": "execute_result"
    }
   ],
   "source": [
    "df_pa[['Price_1', 'Price_2', 'Price_3', 'Price_4', 'Price_5']].describe()"
   ]
  },
  {
   "cell_type": "code",
   "execution_count": 20,
   "metadata": {},
   "outputs": [],
   "source": [
    "price_range = np.arange(0.5, 3.5, 0.01)"
   ]
  },
  {
   "cell_type": "code",
   "execution_count": 21,
   "metadata": {},
   "outputs": [
    {
     "data": {
      "text/plain": [
       "array([0.5 , 0.51, 0.52, 0.53, 0.54, 0.55, 0.56, 0.57, 0.58, 0.59, 0.6 ,\n",
       "       0.61, 0.62, 0.63, 0.64, 0.65, 0.66, 0.67, 0.68, 0.69, 0.7 , 0.71,\n",
       "       0.72, 0.73, 0.74, 0.75, 0.76, 0.77, 0.78, 0.79, 0.8 , 0.81, 0.82,\n",
       "       0.83, 0.84, 0.85, 0.86, 0.87, 0.88, 0.89, 0.9 , 0.91, 0.92, 0.93,\n",
       "       0.94, 0.95, 0.96, 0.97, 0.98, 0.99, 1.  , 1.01, 1.02, 1.03, 1.04,\n",
       "       1.05, 1.06, 1.07, 1.08, 1.09, 1.1 , 1.11, 1.12, 1.13, 1.14, 1.15,\n",
       "       1.16, 1.17, 1.18, 1.19, 1.2 , 1.21, 1.22, 1.23, 1.24, 1.25, 1.26,\n",
       "       1.27, 1.28, 1.29, 1.3 , 1.31, 1.32, 1.33, 1.34, 1.35, 1.36, 1.37,\n",
       "       1.38, 1.39, 1.4 , 1.41, 1.42, 1.43, 1.44, 1.45, 1.46, 1.47, 1.48,\n",
       "       1.49, 1.5 , 1.51, 1.52, 1.53, 1.54, 1.55, 1.56, 1.57, 1.58, 1.59,\n",
       "       1.6 , 1.61, 1.62, 1.63, 1.64, 1.65, 1.66, 1.67, 1.68, 1.69, 1.7 ,\n",
       "       1.71, 1.72, 1.73, 1.74, 1.75, 1.76, 1.77, 1.78, 1.79, 1.8 , 1.81,\n",
       "       1.82, 1.83, 1.84, 1.85, 1.86, 1.87, 1.88, 1.89, 1.9 , 1.91, 1.92,\n",
       "       1.93, 1.94, 1.95, 1.96, 1.97, 1.98, 1.99, 2.  , 2.01, 2.02, 2.03,\n",
       "       2.04, 2.05, 2.06, 2.07, 2.08, 2.09, 2.1 , 2.11, 2.12, 2.13, 2.14,\n",
       "       2.15, 2.16, 2.17, 2.18, 2.19, 2.2 , 2.21, 2.22, 2.23, 2.24, 2.25,\n",
       "       2.26, 2.27, 2.28, 2.29, 2.3 , 2.31, 2.32, 2.33, 2.34, 2.35, 2.36,\n",
       "       2.37, 2.38, 2.39, 2.4 , 2.41, 2.42, 2.43, 2.44, 2.45, 2.46, 2.47,\n",
       "       2.48, 2.49, 2.5 , 2.51, 2.52, 2.53, 2.54, 2.55, 2.56, 2.57, 2.58,\n",
       "       2.59, 2.6 , 2.61, 2.62, 2.63, 2.64, 2.65, 2.66, 2.67, 2.68, 2.69,\n",
       "       2.7 , 2.71, 2.72, 2.73, 2.74, 2.75, 2.76, 2.77, 2.78, 2.79, 2.8 ,\n",
       "       2.81, 2.82, 2.83, 2.84, 2.85, 2.86, 2.87, 2.88, 2.89, 2.9 , 2.91,\n",
       "       2.92, 2.93, 2.94, 2.95, 2.96, 2.97, 2.98, 2.99, 3.  , 3.01, 3.02,\n",
       "       3.03, 3.04, 3.05, 3.06, 3.07, 3.08, 3.09, 3.1 , 3.11, 3.12, 3.13,\n",
       "       3.14, 3.15, 3.16, 3.17, 3.18, 3.19, 3.2 , 3.21, 3.22, 3.23, 3.24,\n",
       "       3.25, 3.26, 3.27, 3.28, 3.29, 3.3 , 3.31, 3.32, 3.33, 3.34, 3.35,\n",
       "       3.36, 3.37, 3.38, 3.39, 3.4 , 3.41, 3.42, 3.43, 3.44, 3.45, 3.46,\n",
       "       3.47, 3.48, 3.49])"
      ]
     },
     "execution_count": 21,
     "metadata": {},
     "output_type": "execute_result"
    }
   ],
   "source": [
    "price_range"
   ]
  },
  {
   "cell_type": "code",
   "execution_count": 22,
   "metadata": {},
   "outputs": [],
   "source": [
    "df_price_range = pd.DataFrame(price_range)"
   ]
  },
  {
   "cell_type": "code",
   "execution_count": 23,
   "metadata": {},
   "outputs": [
    {
     "name": "stderr",
     "output_type": "stream",
     "text": [
      "c:\\Users\\saurabh\\Desktop\\courses\\customer_analytics\\env\\lib\\site-packages\\sklearn\\base.py:465: UserWarning: X does not have valid feature names, but LogisticRegression was fitted with feature names\n",
      "  warnings.warn(\n"
     ]
    }
   ],
   "source": [
    "Y_prob = model_purchase.predict_proba(df_price_range)"
   ]
  },
  {
   "cell_type": "code",
   "execution_count": 24,
   "metadata": {},
   "outputs": [
    {
     "data": {
      "text/plain": [
       "array([[0.082191  , 0.917809  ],\n",
       "       [0.08397972, 0.91602028],\n",
       "       [0.08580374, 0.91419626],\n",
       "       [0.08766358, 0.91233642],\n",
       "       [0.08955978, 0.91044022],\n",
       "       [0.09149288, 0.90850712],\n",
       "       [0.09346343, 0.90653657],\n",
       "       [0.09547196, 0.90452804],\n",
       "       [0.09751901, 0.90248099],\n",
       "       [0.09960511, 0.90039489],\n",
       "       [0.10173081, 0.89826919],\n",
       "       [0.10389665, 0.89610335],\n",
       "       [0.10610314, 0.89389686],\n",
       "       [0.10835083, 0.89164917],\n",
       "       [0.11064024, 0.88935976],\n",
       "       [0.1129719 , 0.8870281 ],\n",
       "       [0.11534632, 0.88465368],\n",
       "       [0.11776402, 0.88223598],\n",
       "       [0.12022551, 0.87977449],\n",
       "       [0.12273129, 0.87726871],\n",
       "       [0.12528187, 0.87471813],\n",
       "       [0.12787772, 0.87212228],\n",
       "       [0.13051933, 0.86948067],\n",
       "       [0.13320717, 0.86679283],\n",
       "       [0.13594172, 0.86405828],\n",
       "       [0.13872341, 0.86127659],\n",
       "       [0.1415527 , 0.8584473 ],\n",
       "       [0.14443002, 0.85556998],\n",
       "       [0.14735578, 0.85264422],\n",
       "       [0.1503304 , 0.8496696 ],\n",
       "       [0.15335427, 0.84664573],\n",
       "       [0.15642776, 0.84357224],\n",
       "       [0.15955125, 0.84044875],\n",
       "       [0.16272507, 0.83727493],\n",
       "       [0.16594956, 0.83405044],\n",
       "       [0.16922503, 0.83077497],\n",
       "       [0.17255177, 0.82744823],\n",
       "       [0.17593007, 0.82406993],\n",
       "       [0.17936017, 0.82063983],\n",
       "       [0.1828423 , 0.8171577 ],\n",
       "       [0.18637669, 0.81362331],\n",
       "       [0.18996352, 0.81003648],\n",
       "       [0.19360295, 0.80639705],\n",
       "       [0.19729512, 0.80270488],\n",
       "       [0.20104015, 0.79895985],\n",
       "       [0.20483813, 0.79516187],\n",
       "       [0.20868912, 0.79131088],\n",
       "       [0.21259315, 0.78740685],\n",
       "       [0.21655022, 0.78344978],\n",
       "       [0.22056032, 0.77943968],\n",
       "       [0.22462339, 0.77537661],\n",
       "       [0.22873934, 0.77126066],\n",
       "       [0.23290806, 0.76709194],\n",
       "       [0.23712939, 0.76287061],\n",
       "       [0.24140316, 0.75859684],\n",
       "       [0.24572914, 0.75427086],\n",
       "       [0.25010708, 0.74989292],\n",
       "       [0.2545367 , 0.7454633 ],\n",
       "       [0.25901767, 0.74098233],\n",
       "       [0.26354964, 0.73645036],\n",
       "       [0.26813221, 0.73186779],\n",
       "       [0.27276495, 0.72723505],\n",
       "       [0.27744739, 0.72255261],\n",
       "       [0.28217902, 0.71782098],\n",
       "       [0.2869593 , 0.7130407 ],\n",
       "       [0.29178764, 0.70821236],\n",
       "       [0.29666342, 0.70333658],\n",
       "       [0.30158598, 0.69841402],\n",
       "       [0.30655462, 0.69344538],\n",
       "       [0.3115686 , 0.6884314 ],\n",
       "       [0.31662715, 0.68337285],\n",
       "       [0.32172944, 0.67827056],\n",
       "       [0.32687462, 0.67312538],\n",
       "       [0.3320618 , 0.6679382 ],\n",
       "       [0.33729006, 0.66270994],\n",
       "       [0.34255841, 0.65744159],\n",
       "       [0.34786586, 0.65213414],\n",
       "       [0.35321136, 0.64678864],\n",
       "       [0.35859383, 0.64140617],\n",
       "       [0.36401216, 0.63598784],\n",
       "       [0.36946521, 0.63053479],\n",
       "       [0.37495178, 0.62504822],\n",
       "       [0.38047067, 0.61952933],\n",
       "       [0.38602062, 0.61397938],\n",
       "       [0.39160035, 0.60839965],\n",
       "       [0.39720856, 0.60279144],\n",
       "       [0.40284391, 0.59715609],\n",
       "       [0.40850502, 0.59149498],\n",
       "       [0.41419051, 0.58580949],\n",
       "       [0.41989896, 0.58010104],\n",
       "       [0.42562892, 0.57437108],\n",
       "       [0.43137892, 0.56862108],\n",
       "       [0.43714749, 0.56285251],\n",
       "       [0.4429331 , 0.5570669 ],\n",
       "       [0.44873424, 0.55126576],\n",
       "       [0.45454936, 0.54545064],\n",
       "       [0.46037691, 0.53962309],\n",
       "       [0.4662153 , 0.5337847 ],\n",
       "       [0.47206297, 0.52793703],\n",
       "       [0.47791832, 0.52208168],\n",
       "       [0.48377974, 0.51622026],\n",
       "       [0.48964562, 0.51035438],\n",
       "       [0.49551436, 0.50448564],\n",
       "       [0.50138434, 0.49861566],\n",
       "       [0.50725393, 0.49274607],\n",
       "       [0.51312153, 0.48687847],\n",
       "       [0.51898551, 0.48101449],\n",
       "       [0.52484426, 0.47515574],\n",
       "       [0.53069619, 0.46930381],\n",
       "       [0.53653968, 0.46346032],\n",
       "       [0.54237316, 0.45762684],\n",
       "       [0.54819504, 0.45180496],\n",
       "       [0.55400376, 0.44599624],\n",
       "       [0.55979776, 0.44020224],\n",
       "       [0.56557553, 0.43442447],\n",
       "       [0.57133552, 0.42866448],\n",
       "       [0.57707626, 0.42292374],\n",
       "       [0.58279625, 0.41720375],\n",
       "       [0.58849405, 0.41150595],\n",
       "       [0.59416822, 0.40583178],\n",
       "       [0.59981735, 0.40018265],\n",
       "       [0.60544006, 0.39455994],\n",
       "       [0.61103501, 0.38896499],\n",
       "       [0.61660086, 0.38339914],\n",
       "       [0.62213631, 0.37786369],\n",
       "       [0.62764011, 0.37235989],\n",
       "       [0.63311102, 0.36688898],\n",
       "       [0.63854784, 0.36145216],\n",
       "       [0.6439494 , 0.3560506 ],\n",
       "       [0.64931457, 0.35068543],\n",
       "       [0.65464225, 0.34535775],\n",
       "       [0.65993139, 0.34006861],\n",
       "       [0.66518095, 0.33481905],\n",
       "       [0.67038995, 0.32961005],\n",
       "       [0.67555744, 0.32444256],\n",
       "       [0.6806825 , 0.3193175 ],\n",
       "       [0.68576426, 0.31423574],\n",
       "       [0.69080189, 0.30919811],\n",
       "       [0.69579458, 0.30420542],\n",
       "       [0.70074157, 0.29925843],\n",
       "       [0.70564215, 0.29435785],\n",
       "       [0.71049564, 0.28950436],\n",
       "       [0.71530139, 0.28469861],\n",
       "       [0.72005879, 0.27994121],\n",
       "       [0.72476729, 0.27523271],\n",
       "       [0.72942634, 0.27057366],\n",
       "       [0.73403548, 0.26596452],\n",
       "       [0.73859423, 0.26140577],\n",
       "       [0.7431022 , 0.2568978 ],\n",
       "       [0.74755899, 0.25244101],\n",
       "       [0.75196427, 0.24803573],\n",
       "       [0.75631774, 0.24368226],\n",
       "       [0.76061912, 0.23938088],\n",
       "       [0.76486818, 0.23513182],\n",
       "       [0.76906472, 0.23093528],\n",
       "       [0.77320856, 0.22679144],\n",
       "       [0.77729958, 0.22270042],\n",
       "       [0.78133768, 0.21866232],\n",
       "       [0.78532278, 0.21467722],\n",
       "       [0.78925483, 0.21074517],\n",
       "       [0.79313384, 0.20686616],\n",
       "       [0.79695982, 0.20304018],\n",
       "       [0.80073282, 0.19926718],\n",
       "       [0.80445291, 0.19554709],\n",
       "       [0.80812019, 0.19187981],\n",
       "       [0.81173478, 0.18826522],\n",
       "       [0.81529686, 0.18470314],\n",
       "       [0.81880657, 0.18119343],\n",
       "       [0.82226414, 0.17773586],\n",
       "       [0.82566978, 0.17433022],\n",
       "       [0.82902372, 0.17097628],\n",
       "       [0.83232625, 0.16767375],\n",
       "       [0.83557764, 0.16442236],\n",
       "       [0.83877819, 0.16122181],\n",
       "       [0.84192822, 0.15807178],\n",
       "       [0.84502808, 0.15497192],\n",
       "       [0.84807812, 0.15192188],\n",
       "       [0.85107871, 0.14892129],\n",
       "       [0.85403024, 0.14596976],\n",
       "       [0.8569331 , 0.1430669 ],\n",
       "       [0.85978772, 0.14021228],\n",
       "       [0.8625945 , 0.1374055 ],\n",
       "       [0.8653539 , 0.1346461 ],\n",
       "       [0.86806636, 0.13193364],\n",
       "       [0.87073234, 0.12926766],\n",
       "       [0.87335231, 0.12664769],\n",
       "       [0.87592675, 0.12407325],\n",
       "       [0.87845613, 0.12154387],\n",
       "       [0.88094096, 0.11905904],\n",
       "       [0.88338173, 0.11661827],\n",
       "       [0.88577896, 0.11422104],\n",
       "       [0.88813314, 0.11186686],\n",
       "       [0.89044481, 0.10955519],\n",
       "       [0.89271448, 0.10728552],\n",
       "       [0.89494267, 0.10505733],\n",
       "       [0.89712992, 0.10287008],\n",
       "       [0.89927676, 0.10072324],\n",
       "       [0.90138372, 0.09861628],\n",
       "       [0.90345134, 0.09654866],\n",
       "       [0.90548015, 0.09451985],\n",
       "       [0.90747069, 0.09252931],\n",
       "       [0.90942351, 0.09057649],\n",
       "       [0.91133915, 0.08866085],\n",
       "       [0.91321813, 0.08678187],\n",
       "       [0.91506101, 0.08493899],\n",
       "       [0.91686831, 0.08313169],\n",
       "       [0.91864057, 0.08135943],\n",
       "       [0.92037834, 0.07962166],\n",
       "       [0.92208213, 0.07791787],\n",
       "       [0.92375249, 0.07624751],\n",
       "       [0.92538994, 0.07461006],\n",
       "       [0.926995  , 0.073005  ],\n",
       "       [0.9285682 , 0.0714318 ],\n",
       "       [0.93011005, 0.06988995],\n",
       "       [0.93162107, 0.06837893],\n",
       "       [0.93310177, 0.06689823],\n",
       "       [0.93455267, 0.06544733],\n",
       "       [0.93597425, 0.06402575],\n",
       "       [0.93736703, 0.06263297],\n",
       "       [0.93873149, 0.06126851],\n",
       "       [0.94006812, 0.05993188],\n",
       "       [0.94137742, 0.05862258],\n",
       "       [0.94265986, 0.05734014],\n",
       "       [0.94391591, 0.05608409],\n",
       "       [0.94514606, 0.05485394],\n",
       "       [0.94635075, 0.05364925],\n",
       "       [0.94753046, 0.05246954],\n",
       "       [0.94868563, 0.05131437],\n",
       "       [0.94981671, 0.05018329],\n",
       "       [0.95092416, 0.04907584],\n",
       "       [0.9520084 , 0.0479916 ],\n",
       "       [0.95306986, 0.04693014],\n",
       "       [0.95410899, 0.04589101],\n",
       "       [0.95512618, 0.04487382],\n",
       "       [0.95612187, 0.04387813],\n",
       "       [0.95709646, 0.04290354],\n",
       "       [0.95805035, 0.04194965],\n",
       "       [0.95898394, 0.04101606],\n",
       "       [0.95989762, 0.04010238],\n",
       "       [0.96079178, 0.03920822],\n",
       "       [0.9616668 , 0.0383332 ],\n",
       "       [0.96252306, 0.03747694],\n",
       "       [0.96336091, 0.03663909],\n",
       "       [0.96418074, 0.03581926],\n",
       "       [0.96498288, 0.03501712],\n",
       "       [0.9657677 , 0.0342323 ],\n",
       "       [0.96653554, 0.03346446],\n",
       "       [0.96728674, 0.03271326],\n",
       "       [0.96802164, 0.03197836],\n",
       "       [0.96874056, 0.03125944],\n",
       "       [0.96944382, 0.03055618],\n",
       "       [0.97013176, 0.02986824],\n",
       "       [0.97080467, 0.02919533],\n",
       "       [0.97146287, 0.02853713],\n",
       "       [0.97210665, 0.02789335],\n",
       "       [0.97273632, 0.02726368],\n",
       "       [0.97335217, 0.02664783],\n",
       "       [0.97395447, 0.02604553],\n",
       "       [0.97454352, 0.02545648],\n",
       "       [0.97511959, 0.02488041],\n",
       "       [0.97568294, 0.02431706],\n",
       "       [0.97623386, 0.02376614],\n",
       "       [0.97677258, 0.02322742],\n",
       "       [0.97729938, 0.02270062],\n",
       "       [0.9778145 , 0.0221855 ],\n",
       "       [0.9783182 , 0.0216818 ],\n",
       "       [0.9788107 , 0.0211893 ],\n",
       "       [0.97929226, 0.02070774],\n",
       "       [0.97976309, 0.02023691],\n",
       "       [0.98022344, 0.01977656],\n",
       "       [0.98067352, 0.01932648],\n",
       "       [0.98111356, 0.01888644],\n",
       "       [0.98154377, 0.01845623],\n",
       "       [0.98196435, 0.01803565],\n",
       "       [0.98237553, 0.01762447],\n",
       "       [0.98277749, 0.01722251],\n",
       "       [0.98317045, 0.01682955],\n",
       "       [0.98355459, 0.01644541],\n",
       "       [0.9839301 , 0.0160699 ],\n",
       "       [0.98429717, 0.01570283],\n",
       "       [0.984656  , 0.015344  ],\n",
       "       [0.98500674, 0.01499326],\n",
       "       [0.98534959, 0.01465041],\n",
       "       [0.98568472, 0.01431528],\n",
       "       [0.98601228, 0.01398772],\n",
       "       [0.98633246, 0.01366754],\n",
       "       [0.9866454 , 0.0133546 ],\n",
       "       [0.98695128, 0.01304872],\n",
       "       [0.98725024, 0.01274976],\n",
       "       [0.98754243, 0.01245757],\n",
       "       [0.98782801, 0.01217199],\n",
       "       [0.98810713, 0.01189287],\n",
       "       [0.98837992, 0.01162008],\n",
       "       [0.98864652, 0.01135348],\n",
       "       [0.98890708, 0.01109292],\n",
       "       [0.98916172, 0.01083828],\n",
       "       [0.98941058, 0.01058942],\n",
       "       [0.98965378, 0.01034622],\n",
       "       [0.98989146, 0.01010854],\n",
       "       [0.99012373, 0.00987627]])"
      ]
     },
     "execution_count": 24,
     "metadata": {},
     "output_type": "execute_result"
    }
   ],
   "source": [
    "Y_prob"
   ]
  },
  {
   "cell_type": "code",
   "execution_count": 25,
   "metadata": {},
   "outputs": [],
   "source": [
    "purchase_pr = Y_prob[:][:, 1]"
   ]
  },
  {
   "cell_type": "code",
   "execution_count": 26,
   "metadata": {},
   "outputs": [],
   "source": [
    "pe = model_purchase.coef_[:, 0] * price_range * (1 - purchase_pr)"
   ]
  },
  {
   "cell_type": "code",
   "execution_count": 27,
   "metadata": {},
   "outputs": [],
   "source": [
    "df_price_elasticities = pd.DataFrame(price_range)"
   ]
  },
  {
   "cell_type": "code",
   "execution_count": 28,
   "metadata": {},
   "outputs": [],
   "source": [
    "df_price_elasticities = df_price_elasticities.rename(columns={\"0\": \"Price_Point\"})\n",
    "df_price_elasticities['Mean_PE'] = pe"
   ]
  },
  {
   "cell_type": "code",
   "execution_count": 29,
   "metadata": {},
   "outputs": [
    {
     "data": {
      "text/html": [
       "<div>\n",
       "<style scoped>\n",
       "    .dataframe tbody tr th:only-of-type {\n",
       "        vertical-align: middle;\n",
       "    }\n",
       "\n",
       "    .dataframe tbody tr th {\n",
       "        vertical-align: top;\n",
       "    }\n",
       "\n",
       "    .dataframe thead th {\n",
       "        text-align: right;\n",
       "    }\n",
       "</style>\n",
       "<table border=\"1\" class=\"dataframe\">\n",
       "  <thead>\n",
       "    <tr style=\"text-align: right;\">\n",
       "      <th></th>\n",
       "      <th>0</th>\n",
       "      <th>Mean_PE</th>\n",
       "    </tr>\n",
       "  </thead>\n",
       "  <tbody>\n",
       "    <tr>\n",
       "      <th>0</th>\n",
       "      <td>0.50</td>\n",
       "      <td>-0.096494</td>\n",
       "    </tr>\n",
       "    <tr>\n",
       "      <th>1</th>\n",
       "      <td>0.51</td>\n",
       "      <td>-0.100566</td>\n",
       "    </tr>\n",
       "    <tr>\n",
       "      <th>2</th>\n",
       "      <td>0.52</td>\n",
       "      <td>-0.104765</td>\n",
       "    </tr>\n",
       "    <tr>\n",
       "      <th>3</th>\n",
       "      <td>0.53</td>\n",
       "      <td>-0.109094</td>\n",
       "    </tr>\n",
       "    <tr>\n",
       "      <th>4</th>\n",
       "      <td>0.54</td>\n",
       "      <td>-0.113557</td>\n",
       "    </tr>\n",
       "    <tr>\n",
       "      <th>...</th>\n",
       "      <td>...</td>\n",
       "      <td>...</td>\n",
       "    </tr>\n",
       "    <tr>\n",
       "      <th>295</th>\n",
       "      <td>3.45</td>\n",
       "      <td>-8.012939</td>\n",
       "    </tr>\n",
       "    <tr>\n",
       "      <th>296</th>\n",
       "      <td>3.46</td>\n",
       "      <td>-8.038187</td>\n",
       "    </tr>\n",
       "    <tr>\n",
       "      <th>297</th>\n",
       "      <td>3.47</td>\n",
       "      <td>-8.063400</td>\n",
       "    </tr>\n",
       "    <tr>\n",
       "      <th>298</th>\n",
       "      <td>3.48</td>\n",
       "      <td>-8.088579</td>\n",
       "    </tr>\n",
       "    <tr>\n",
       "      <th>299</th>\n",
       "      <td>3.49</td>\n",
       "      <td>-8.113726</td>\n",
       "    </tr>\n",
       "  </tbody>\n",
       "</table>\n",
       "<p>300 rows × 2 columns</p>\n",
       "</div>"
      ],
      "text/plain": [
       "        0   Mean_PE\n",
       "0    0.50 -0.096494\n",
       "1    0.51 -0.100566\n",
       "2    0.52 -0.104765\n",
       "3    0.53 -0.109094\n",
       "4    0.54 -0.113557\n",
       "..    ...       ...\n",
       "295  3.45 -8.012939\n",
       "296  3.46 -8.038187\n",
       "297  3.47 -8.063400\n",
       "298  3.48 -8.088579\n",
       "299  3.49 -8.113726\n",
       "\n",
       "[300 rows x 2 columns]"
      ]
     },
     "execution_count": 29,
     "metadata": {},
     "output_type": "execute_result"
    }
   ],
   "source": [
    "df_price_elasticities"
   ]
  },
  {
   "cell_type": "code",
   "execution_count": 30,
   "metadata": {},
   "outputs": [
    {
     "data": {
      "text/plain": [
       "Text(0.5, 1.0, 'Price Elasticity of Purchase Probability')"
      ]
     },
     "execution_count": 30,
     "metadata": {},
     "output_type": "execute_result"
    },
    {
     "data": {
      "image/png": "[encoded data removed]",
      "text/plain": [
       "<Figure size 900x600 with 1 Axes>"
      ]
     },
     "metadata": {},
     "output_type": "display_data"
    }
   ],
   "source": [
    "plt.figure(figsize=(9, 6))\n",
    "plt.plot(price_range, pe, color='grey')\n",
    "plt.xlabel('Price')\n",
    "plt.xlabel('Elasticity')\n",
    "plt.title('Price Elasticity of Purchase Probability')"
   ]
  },
  {
   "cell_type": "markdown",
   "metadata": {},
   "source": [
    "### Purchase Probability by Segments"
   ]
  },
  {
   "cell_type": "markdown",
   "metadata": {},
   "source": [
    "#### Segment 1 - Career Focused"
   ]
  },
  {
   "cell_type": "code",
   "execution_count": 31,
   "metadata": {},
   "outputs": [],
   "source": [
    "df_pa_segm_1 = df_pa[df_pa['Segment'] == 1]"
   ]
  },
  {
   "cell_type": "code",
   "execution_count": 32,
   "metadata": {},
   "outputs": [],
   "source": [
    "Y = df_pa_segm_1['Incidence']"
   ]
  },
  {
   "cell_type": "code",
   "execution_count": 33,
   "metadata": {},
   "outputs": [],
   "source": [
    "X = pd.DataFrame(\n",
    "    df_pa_segm_1['Price_1'] + \n",
    "    df_pa_segm_1['Price_2'] + \n",
    "    df_pa_segm_1['Price_3'] + \n",
    "    df_pa_segm_1['Price_4'] + \n",
    "    df_pa_segm_1['Price_5']\n",
    ") / 5"
   ]
  },
  {
   "cell_type": "code",
   "execution_count": 34,
   "metadata": {},
   "outputs": [
    {
     "data": {
      "text/html": [
       "<style>#sk-container-id-3 {color: black;}#sk-container-id-3 pre{padding: 0;}#sk-container-id-3 div.sk-toggleable {background-color: white;}#sk-container-id-3 label.sk-toggleable__label {cursor: pointer;display: block;width: 100%;margin-bottom: 0;padding: 0.3em;box-sizing: border-box;text-align: center;}#sk-container-id-3 label.sk-toggleable__label-arrow:before {content: \"▸\";float: left;margin-right: 0.25em;color: #696969;}#sk-container-id-3 label.sk-toggleable__label-arrow:hover:before {color: black;}#sk-container-id-3 div.sk-estimator:hover label.sk-toggleable__label-arrow:before {color: black;}#sk-container-id-3 div.sk-toggleable__content {max-height: 0;max-width: 0;overflow: hidden;text-align: left;background-color: #f0f8ff;}#sk-container-id-3 div.sk-toggleable__content pre {margin: 0.2em;color: black;border-radius: 0.25em;background-color: #f0f8ff;}#sk-container-id-3 input.sk-toggleable__control:checked~div.sk-toggleable__content {max-height: 200px;max-width: 100%;overflow: auto;}#sk-container-id-3 input.sk-toggleable__control:checked~label.sk-toggleable__label-arrow:before {content: \"▾\";}#sk-container-id-3 div.sk-estimator input.sk-toggleable__control:checked~label.sk-toggleable__label {background-color: #d4ebff;}#sk-container-id-3 div.sk-label input.sk-toggleable__control:checked~label.sk-toggleable__label {background-color: #d4ebff;}#sk-container-id-3 input.sk-hidden--visually {border: 0;clip: rect(1px 1px 1px 1px);clip: rect(1px, 1px, 1px, 1px);height: 1px;margin: -1px;overflow: hidden;padding: 0;position: absolute;width: 1px;}#sk-container-id-3 div.sk-estimator {font-family: monospace;background-color: #f0f8ff;border: 1px dotted black;border-radius: 0.25em;box-sizing: border-box;margin-bottom: 0.5em;}#sk-container-id-3 div.sk-estimator:hover {background-color: #d4ebff;}#sk-container-id-3 div.sk-parallel-item::after {content: \"\";width: 100%;border-bottom: 1px solid gray;flex-grow: 1;}#sk-container-id-3 div.sk-label:hover label.sk-toggleable__label {background-color: #d4ebff;}#sk-container-id-3 div.sk-serial::before {content: \"\";position: absolute;border-left: 1px solid gray;box-sizing: border-box;top: 0;bottom: 0;left: 50%;z-index: 0;}#sk-container-id-3 div.sk-serial {display: flex;flex-direction: column;align-items: center;background-color: white;padding-right: 0.2em;padding-left: 0.2em;position: relative;}#sk-container-id-3 div.sk-item {position: relative;z-index: 1;}#sk-container-id-3 div.sk-parallel {display: flex;align-items: stretch;justify-content: center;background-color: white;position: relative;}#sk-container-id-3 div.sk-item::before, #sk-container-id-3 div.sk-parallel-item::before {content: \"\";position: absolute;border-left: 1px solid gray;box-sizing: border-box;top: 0;bottom: 0;left: 50%;z-index: -1;}#sk-container-id-3 div.sk-parallel-item {display: flex;flex-direction: column;z-index: 1;position: relative;background-color: white;}#sk-container-id-3 div.sk-parallel-item:first-child::after {align-self: flex-end;width: 50%;}#sk-container-id-3 div.sk-parallel-item:last-child::after {align-self: flex-start;width: 50%;}#sk-container-id-3 div.sk-parallel-item:only-child::after {width: 0;}#sk-container-id-3 div.sk-dashed-wrapped {border: 1px dashed gray;margin: 0 0.4em 0.5em 0.4em;box-sizing: border-box;padding-bottom: 0.4em;background-color: white;}#sk-container-id-3 div.sk-label label {font-family: monospace;font-weight: bold;display: inline-block;line-height: 1.2em;}#sk-container-id-3 div.sk-label-container {text-align: center;}#sk-container-id-3 div.sk-container {/* jupyter's `normalize.less` sets `[hidden] { display: none; }` but bootstrap.min.css set `[hidden] { display: none !important; }` so we also need the `!important` here to be able to override the default hidden behavior on the sphinx rendered scikit-learn.org. See: https://github.com/scikit-learn/scikit-learn/issues/21755 */display: inline-block !important;position: relative;}#sk-container-id-3 div.sk-text-repr-fallback {display: none;}</style><div id=\"sk-container-id-3\" class=\"sk-top-container\"><div class=\"sk-text-repr-fallback\"><pre>LogisticRegression(solver=&#x27;sag&#x27;)</pre><b>In a Jupyter environment, please rerun this cell to show the HTML representation or trust the notebook. <br />On GitHub, the HTML representation is unable to render, please try loading this page with nbviewer.org.</b></div><div class=\"sk-container\" hidden><div class=\"sk-item\"><div class=\"sk-estimator sk-toggleable\"><input class=\"sk-toggleable__control sk-hidden--visually\" id=\"sk-estimator-id-3\" type=\"checkbox\" checked><label for=\"sk-estimator-id-3\" class=\"sk-toggleable__label sk-toggleable__label-arrow\">LogisticRegression</label><div class=\"sk-toggleable__content\"><pre>LogisticRegression(solver=&#x27;sag&#x27;)</pre></div></div></div></div></div>"
      ],
      "text/plain": [
       "LogisticRegression(solver='sag')"
      ]
     },
     "execution_count": 34,
     "metadata": {},
     "output_type": "execute_result"
    }
   ],
   "source": [
    "model_incidence_segment_1 = LogisticRegression(solver='sag')\n",
    "model_incidence_segment_1.fit(X, Y)"
   ]
  },
  {
   "cell_type": "code",
   "execution_count": 35,
   "metadata": {},
   "outputs": [
    {
     "data": {
      "text/plain": [
       "array([[-1.71198304]])"
      ]
     },
     "execution_count": 35,
     "metadata": {},
     "output_type": "execute_result"
    }
   ],
   "source": [
    "model_incidence_segment_1.coef_"
   ]
  },
  {
   "cell_type": "code",
   "execution_count": 36,
   "metadata": {},
   "outputs": [],
   "source": [
    "Y_segment_1 = model_incidence_segment_1.predict_proba(df_price_range)\n",
    "purchase_pr_segment_1 = Y_segment_1[:][:, 1]\n",
    "pe_segment_1 = model_incidence_segment_1.coef_[:, 0] * price_range * (1 - purchase_pr_segment_1)"
   ]
  },
  {
   "cell_type": "code",
   "execution_count": 37,
   "metadata": {},
   "outputs": [
    {
     "data": {
      "text/html": [
       "<div>\n",
       "<style scoped>\n",
       "    .dataframe tbody tr th:only-of-type {\n",
       "        vertical-align: middle;\n",
       "    }\n",
       "\n",
       "    .dataframe tbody tr th {\n",
       "        vertical-align: top;\n",
       "    }\n",
       "\n",
       "    .dataframe thead th {\n",
       "        text-align: right;\n",
       "    }\n",
       "</style>\n",
       "<table border=\"1\" class=\"dataframe\">\n",
       "  <thead>\n",
       "    <tr style=\"text-align: right;\">\n",
       "      <th></th>\n",
       "      <th>0</th>\n",
       "      <th>Mean_PE</th>\n",
       "      <th>PE_Segment_1</th>\n",
       "    </tr>\n",
       "  </thead>\n",
       "  <tbody>\n",
       "    <tr>\n",
       "      <th>0</th>\n",
       "      <td>0.50</td>\n",
       "      <td>-0.096494</td>\n",
       "      <td>-0.119004</td>\n",
       "    </tr>\n",
       "    <tr>\n",
       "      <th>1</th>\n",
       "      <td>0.51</td>\n",
       "      <td>-0.100566</td>\n",
       "      <td>-0.123184</td>\n",
       "    </tr>\n",
       "    <tr>\n",
       "      <th>2</th>\n",
       "      <td>0.52</td>\n",
       "      <td>-0.104765</td>\n",
       "      <td>-0.127458</td>\n",
       "    </tr>\n",
       "    <tr>\n",
       "      <th>3</th>\n",
       "      <td>0.53</td>\n",
       "      <td>-0.109094</td>\n",
       "      <td>-0.131826</td>\n",
       "    </tr>\n",
       "    <tr>\n",
       "      <th>4</th>\n",
       "      <td>0.54</td>\n",
       "      <td>-0.113557</td>\n",
       "      <td>-0.136291</td>\n",
       "    </tr>\n",
       "    <tr>\n",
       "      <th>...</th>\n",
       "      <td>...</td>\n",
       "      <td>...</td>\n",
       "      <td>...</td>\n",
       "    </tr>\n",
       "    <tr>\n",
       "      <th>295</th>\n",
       "      <td>3.45</td>\n",
       "      <td>-8.012939</td>\n",
       "      <td>-5.680928</td>\n",
       "    </tr>\n",
       "    <tr>\n",
       "      <th>296</th>\n",
       "      <td>3.46</td>\n",
       "      <td>-8.038187</td>\n",
       "      <td>-5.701088</td>\n",
       "    </tr>\n",
       "    <tr>\n",
       "      <th>297</th>\n",
       "      <td>3.47</td>\n",
       "      <td>-8.063400</td>\n",
       "      <td>-5.721211</td>\n",
       "    </tr>\n",
       "    <tr>\n",
       "      <th>298</th>\n",
       "      <td>3.48</td>\n",
       "      <td>-8.088579</td>\n",
       "      <td>-5.741297</td>\n",
       "    </tr>\n",
       "    <tr>\n",
       "      <th>299</th>\n",
       "      <td>3.49</td>\n",
       "      <td>-8.113726</td>\n",
       "      <td>-5.761347</td>\n",
       "    </tr>\n",
       "  </tbody>\n",
       "</table>\n",
       "<p>300 rows × 3 columns</p>\n",
       "</div>"
      ],
      "text/plain": [
       "        0   Mean_PE  PE_Segment_1\n",
       "0    0.50 -0.096494     -0.119004\n",
       "1    0.51 -0.100566     -0.123184\n",
       "2    0.52 -0.104765     -0.127458\n",
       "3    0.53 -0.109094     -0.131826\n",
       "4    0.54 -0.113557     -0.136291\n",
       "..    ...       ...           ...\n",
       "295  3.45 -8.012939     -5.680928\n",
       "296  3.46 -8.038187     -5.701088\n",
       "297  3.47 -8.063400     -5.721211\n",
       "298  3.48 -8.088579     -5.741297\n",
       "299  3.49 -8.113726     -5.761347\n",
       "\n",
       "[300 rows x 3 columns]"
      ]
     },
     "execution_count": 37,
     "metadata": {},
     "output_type": "execute_result"
    }
   ],
   "source": [
    "df_price_elasticities['PE_Segment_1'] = pe_segment_1\n",
    "df_price_elasticities"
   ]
  },
  {
   "cell_type": "code",
   "execution_count": 38,
   "metadata": {},
   "outputs": [
    {
     "data": {
      "text/plain": [
       "Text(0.5, 1.0, 'Price Elasticity of Purchase Probability')"
      ]
     },
     "execution_count": 38,
     "metadata": {},
     "output_type": "execute_result"
    },
    {
     "data": {
      "image/png": "[encoded data removed]",
      "text/plain": [
       "<Figure size 900x600 with 1 Axes>"
      ]
     },
     "metadata": {},
     "output_type": "display_data"
    }
   ],
   "source": [
    "plt.figure(figsize=(9, 6))\n",
    "plt.plot(price_range, pe, color='grey')\n",
    "plt.plot(price_range, pe_segment_1, color='green')\n",
    "plt.xlabel('Price')\n",
    "plt.xlabel('Elasticity')\n",
    "plt.title('Price Elasticity of Purchase Probability')"
   ]
  },
  {
   "cell_type": "markdown",
   "metadata": {},
   "source": [
    "#### Segment 2 - Fewer Opportunities"
   ]
  },
  {
   "cell_type": "code",
   "execution_count": 39,
   "metadata": {},
   "outputs": [],
   "source": [
    "df_pa_segm_2 = df_pa[df_pa['Segment'] == 2]"
   ]
  },
  {
   "cell_type": "code",
   "execution_count": 41,
   "metadata": {},
   "outputs": [
    {
     "name": "stderr",
     "output_type": "stream",
     "text": [
      "c:\\Users\\saurabh\\Desktop\\courses\\customer_analytics\\env\\lib\\site-packages\\sklearn\\base.py:465: UserWarning: X does not have valid feature names, but LogisticRegression was fitted with feature names\n",
      "  warnings.warn(\n"
     ]
    }
   ],
   "source": [
    "Y = df_pa_segm_2['Incidence']\n",
    "\n",
    "X = pd.DataFrame()\n",
    "\n",
    "X['Mean_Price'] = (\n",
    "    df_pa_segm_2['Price_1'] +\n",
    "    df_pa_segm_2['Price_2'] +\n",
    "    df_pa_segm_2['Price_3'] +\n",
    "    df_pa_segm_2['Price_4'] +\n",
    "    df_pa_segm_2['Price_5']\n",
    ") / 5\n",
    "\n",
    "model_incidence_segment_2 = LogisticRegression(solver='sag')\n",
    "model_incidence_segment_2.fit(X, Y)\n",
    "\n",
    "model_incidence_segment_2.coef_\n",
    "Y_segment_2 = model_incidence_segment_2.predict_proba(df_price_range)\n",
    "purchase_pr_segment_2 = Y_segment_2[:][:, 1]\n",
    "pe_segment_2 = model_incidence_segment_2.coef_[:, 0] * price_range * (1 - purchase_pr_segment_2)"
   ]
  },
  {
   "cell_type": "code",
   "execution_count": 42,
   "metadata": {},
   "outputs": [
    {
     "data": {
      "text/html": [
       "<div>\n",
       "<style scoped>\n",
       "    .dataframe tbody tr th:only-of-type {\n",
       "        vertical-align: middle;\n",
       "    }\n",
       "\n",
       "    .dataframe tbody tr th {\n",
       "        vertical-align: top;\n",
       "    }\n",
       "\n",
       "    .dataframe thead th {\n",
       "        text-align: right;\n",
       "    }\n",
       "</style>\n",
       "<table border=\"1\" class=\"dataframe\">\n",
       "  <thead>\n",
       "    <tr style=\"text-align: right;\">\n",
       "      <th></th>\n",
       "      <th>0</th>\n",
       "      <th>Mean_PE</th>\n",
       "      <th>PE_Segment_1</th>\n",
       "      <th>PE_Segment_2</th>\n",
       "    </tr>\n",
       "  </thead>\n",
       "  <tbody>\n",
       "    <tr>\n",
       "      <th>0</th>\n",
       "      <td>0.50</td>\n",
       "      <td>-0.096494</td>\n",
       "      <td>-0.119004</td>\n",
       "      <td>-0.168020</td>\n",
       "    </tr>\n",
       "    <tr>\n",
       "      <th>1</th>\n",
       "      <td>0.51</td>\n",
       "      <td>-0.100566</td>\n",
       "      <td>-0.123184</td>\n",
       "      <td>-0.172944</td>\n",
       "    </tr>\n",
       "    <tr>\n",
       "      <th>2</th>\n",
       "      <td>0.52</td>\n",
       "      <td>-0.104765</td>\n",
       "      <td>-0.127458</td>\n",
       "      <td>-0.177938</td>\n",
       "    </tr>\n",
       "    <tr>\n",
       "      <th>3</th>\n",
       "      <td>0.53</td>\n",
       "      <td>-0.109094</td>\n",
       "      <td>-0.131826</td>\n",
       "      <td>-0.183004</td>\n",
       "    </tr>\n",
       "    <tr>\n",
       "      <th>4</th>\n",
       "      <td>0.54</td>\n",
       "      <td>-0.113557</td>\n",
       "      <td>-0.136291</td>\n",
       "      <td>-0.188140</td>\n",
       "    </tr>\n",
       "    <tr>\n",
       "      <th>...</th>\n",
       "      <td>...</td>\n",
       "      <td>...</td>\n",
       "      <td>...</td>\n",
       "      <td>...</td>\n",
       "    </tr>\n",
       "    <tr>\n",
       "      <th>295</th>\n",
       "      <td>3.45</td>\n",
       "      <td>-8.012939</td>\n",
       "      <td>-5.680928</td>\n",
       "      <td>-4.021718</td>\n",
       "    </tr>\n",
       "    <tr>\n",
       "      <th>296</th>\n",
       "      <td>3.46</td>\n",
       "      <td>-8.038187</td>\n",
       "      <td>-5.701088</td>\n",
       "      <td>-4.036585</td>\n",
       "    </tr>\n",
       "    <tr>\n",
       "      <th>297</th>\n",
       "      <td>3.47</td>\n",
       "      <td>-8.063400</td>\n",
       "      <td>-5.721211</td>\n",
       "      <td>-4.051435</td>\n",
       "    </tr>\n",
       "    <tr>\n",
       "      <th>298</th>\n",
       "      <td>3.48</td>\n",
       "      <td>-8.088579</td>\n",
       "      <td>-5.741297</td>\n",
       "      <td>-4.066269</td>\n",
       "    </tr>\n",
       "    <tr>\n",
       "      <th>299</th>\n",
       "      <td>3.49</td>\n",
       "      <td>-8.113726</td>\n",
       "      <td>-5.761347</td>\n",
       "      <td>-4.081087</td>\n",
       "    </tr>\n",
       "  </tbody>\n",
       "</table>\n",
       "<p>300 rows × 4 columns</p>\n",
       "</div>"
      ],
      "text/plain": [
       "        0   Mean_PE  PE_Segment_1  PE_Segment_2\n",
       "0    0.50 -0.096494     -0.119004     -0.168020\n",
       "1    0.51 -0.100566     -0.123184     -0.172944\n",
       "2    0.52 -0.104765     -0.127458     -0.177938\n",
       "3    0.53 -0.109094     -0.131826     -0.183004\n",
       "4    0.54 -0.113557     -0.136291     -0.188140\n",
       "..    ...       ...           ...           ...\n",
       "295  3.45 -8.012939     -5.680928     -4.021718\n",
       "296  3.46 -8.038187     -5.701088     -4.036585\n",
       "297  3.47 -8.063400     -5.721211     -4.051435\n",
       "298  3.48 -8.088579     -5.741297     -4.066269\n",
       "299  3.49 -8.113726     -5.761347     -4.081087\n",
       "\n",
       "[300 rows x 4 columns]"
      ]
     },
     "execution_count": 42,
     "metadata": {},
     "output_type": "execute_result"
    }
   ],
   "source": [
    "df_price_elasticities['PE_Segment_2'] = pe_segment_2\n",
    "df_price_elasticities"
   ]
  },
  {
   "cell_type": "code",
   "execution_count": 44,
   "metadata": {},
   "outputs": [
    {
     "data": {
      "text/plain": [
       "Text(0.5, 1.0, 'Price Elasticity of Purchase Probability')"
      ]
     },
     "execution_count": 44,
     "metadata": {},
     "output_type": "execute_result"
    },
    {
     "data": {
      "image/png": "[encoded data removed]",
      "text/plain": [
       "<Figure size 900x600 with 1 Axes>"
      ]
     },
     "metadata": {},
     "output_type": "display_data"
    }
   ],
   "source": [
    "plt.figure(figsize=(9, 6))\n",
    "plt.plot(price_range, pe, color='grey')\n",
    "plt.plot(price_range, pe_segment_1, color='green')\n",
    "plt.plot(price_range, pe_segment_2, color='r')\n",
    "plt.xlabel('Price')\n",
    "plt.xlabel('Elasticity')\n",
    "plt.title('Price Elasticity of Purchase Probability')"
   ]
  },
  {
   "cell_type": "markdown",
   "metadata": {},
   "source": [
    "### Purchase Probability with Promotion Feature"
   ]
  },
  {
   "cell_type": "markdown",
   "metadata": {},
   "source": [
    "#### Data preparation"
   ]
  },
  {
   "cell_type": "code",
   "execution_count": 45,
   "metadata": {},
   "outputs": [],
   "source": [
    "Y = df_pa['Incidence']"
   ]
  },
  {
   "cell_type": "code",
   "execution_count": 47,
   "metadata": {},
   "outputs": [],
   "source": [
    "X = pd.DataFrame()\n",
    "X['Mean_Price'] = (\n",
    "    df_pa['Price_1'] +\n",
    "    df_pa['Price_2'] +\n",
    "    df_pa['Price_3'] +\n",
    "    df_pa['Price_4'] +\n",
    "    df_pa['Price_5']\n",
    ") / 5"
   ]
  },
  {
   "cell_type": "code",
   "execution_count": 48,
   "metadata": {},
   "outputs": [],
   "source": [
    "X['Mean_Promotion'] = (\n",
    "    df_pa['Promotion_1'] +\n",
    "    df_pa['Promotion_2'] +\n",
    "    df_pa['Promotion_3'] +\n",
    "    df_pa['Promotion_4'] +\n",
    "    df_pa['Promotion_5']\n",
    ") / 5"
   ]
  },
  {
   "cell_type": "code",
   "execution_count": 49,
   "metadata": {},
   "outputs": [
    {
     "data": {
      "text/html": [
       "<div>\n",
       "<style scoped>\n",
       "    .dataframe tbody tr th:only-of-type {\n",
       "        vertical-align: middle;\n",
       "    }\n",
       "\n",
       "    .dataframe tbody tr th {\n",
       "        vertical-align: top;\n",
       "    }\n",
       "\n",
       "    .dataframe thead th {\n",
       "        text-align: right;\n",
       "    }\n",
       "</style>\n",
       "<table border=\"1\" class=\"dataframe\">\n",
       "  <thead>\n",
       "    <tr style=\"text-align: right;\">\n",
       "      <th></th>\n",
       "      <th>Mean_Price</th>\n",
       "      <th>Mean_Promotion</th>\n",
       "    </tr>\n",
       "  </thead>\n",
       "  <tbody>\n",
       "    <tr>\n",
       "      <th>0</th>\n",
       "      <td>2.044</td>\n",
       "      <td>0.2</td>\n",
       "    </tr>\n",
       "    <tr>\n",
       "      <th>1</th>\n",
       "      <td>2.028</td>\n",
       "      <td>0.0</td>\n",
       "    </tr>\n",
       "    <tr>\n",
       "      <th>2</th>\n",
       "      <td>2.028</td>\n",
       "      <td>0.0</td>\n",
       "    </tr>\n",
       "    <tr>\n",
       "      <th>3</th>\n",
       "      <td>2.028</td>\n",
       "      <td>0.0</td>\n",
       "    </tr>\n",
       "    <tr>\n",
       "      <th>4</th>\n",
       "      <td>2.030</td>\n",
       "      <td>0.0</td>\n",
       "    </tr>\n",
       "    <tr>\n",
       "      <th>...</th>\n",
       "      <td>...</td>\n",
       "      <td>...</td>\n",
       "    </tr>\n",
       "    <tr>\n",
       "      <th>58688</th>\n",
       "      <td>2.060</td>\n",
       "      <td>0.2</td>\n",
       "    </tr>\n",
       "    <tr>\n",
       "      <th>58689</th>\n",
       "      <td>2.060</td>\n",
       "      <td>0.0</td>\n",
       "    </tr>\n",
       "    <tr>\n",
       "      <th>58690</th>\n",
       "      <td>2.086</td>\n",
       "      <td>0.0</td>\n",
       "    </tr>\n",
       "    <tr>\n",
       "      <th>58691</th>\n",
       "      <td>2.092</td>\n",
       "      <td>0.0</td>\n",
       "    </tr>\n",
       "    <tr>\n",
       "      <th>58692</th>\n",
       "      <td>2.092</td>\n",
       "      <td>0.0</td>\n",
       "    </tr>\n",
       "  </tbody>\n",
       "</table>\n",
       "<p>58693 rows × 2 columns</p>\n",
       "</div>"
      ],
      "text/plain": [
       "       Mean_Price  Mean_Promotion\n",
       "0           2.044             0.2\n",
       "1           2.028             0.0\n",
       "2           2.028             0.0\n",
       "3           2.028             0.0\n",
       "4           2.030             0.0\n",
       "...           ...             ...\n",
       "58688       2.060             0.2\n",
       "58689       2.060             0.0\n",
       "58690       2.086             0.0\n",
       "58691       2.092             0.0\n",
       "58692       2.092             0.0\n",
       "\n",
       "[58693 rows x 2 columns]"
      ]
     },
     "execution_count": 49,
     "metadata": {},
     "output_type": "execute_result"
    }
   ],
   "source": [
    "X"
   ]
  },
  {
   "cell_type": "markdown",
   "metadata": {},
   "source": [
    "#### Model Estimation"
   ]
  },
  {
   "cell_type": "code",
   "execution_count": 50,
   "metadata": {},
   "outputs": [
    {
     "data": {
      "text/plain": [
       "array([[-1.4940109 ,  0.56141647]])"
      ]
     },
     "execution_count": 50,
     "metadata": {},
     "output_type": "execute_result"
    }
   ],
   "source": [
    "model_incidence_promotion = LogisticRegression(solver='sag')\n",
    "model_incidence_promotion.fit(X, Y)\n",
    "model_incidence_promotion.coef_"
   ]
  },
  {
   "cell_type": "markdown",
   "metadata": {},
   "source": [
    "#### Price Elasticity with Promotion"
   ]
  },
  {
   "cell_type": "code",
   "execution_count": 54,
   "metadata": {},
   "outputs": [],
   "source": [
    "df_price_elasticity_promotion = pd.DataFrame(price_range)\n",
    "df_price_elasticity_promotion = df_price_elasticity_promotion.rename(columns={0:\"Price_Range\"})"
   ]
  },
  {
   "cell_type": "code",
   "execution_count": 55,
   "metadata": {},
   "outputs": [],
   "source": [
    "df_price_elasticity_promotion['Promotion'] = 1"
   ]
  },
  {
   "cell_type": "code",
   "execution_count": 56,
   "metadata": {},
   "outputs": [
    {
     "ename": "ValueError",
     "evalue": "The feature names should match those that were passed during fit.\nFeature names unseen at fit time:\n- Price_Range\n- Promotion\nFeature names seen at fit time, yet now missing:\n- Mean_Price\n- Mean_Promotion\n",
     "output_type": "error",
     "traceback": [
      "\u001b[1;31m---------------------------------------------------------------------------\u001b[0m",
      "\u001b[1;31mValueError\u001b[0m                                Traceback (most recent call last)",
      "\u001b[1;32mc:\\Users\\saurabh\\Desktop\\courses\\customer_analytics\\modelling_purchase_incidence.ipynb Cell 53\u001b[0m line \u001b[0;36m1\n\u001b[1;32m----> <a href='vscode-notebook-cell:/c%3A/Users/saurabh/Desktop/courses/customer_analytics/modelling_purchase_incidence.ipynb#Y103sZmlsZQ%3D%3D?line=0'>1</a>\u001b[0m Y_promotion \u001b[39m=\u001b[39m model_incidence_promotion\u001b[39m.\u001b[39;49mpredict_proba(df_price_elasticity_promotion)\n",
      "File \u001b[1;32mc:\\Users\\saurabh\\Desktop\\courses\\customer_analytics\\env\\lib\\site-packages\\sklearn\\linear_model\\_logistic.py:1384\u001b[0m, in \u001b[0;36mLogisticRegression.predict_proba\u001b[1;34m(self, X)\u001b[0m\n\u001b[0;32m   1376\u001b[0m ovr \u001b[39m=\u001b[39m \u001b[39mself\u001b[39m\u001b[39m.\u001b[39mmulti_class \u001b[39min\u001b[39;00m [\u001b[39m\"\u001b[39m\u001b[39movr\u001b[39m\u001b[39m\"\u001b[39m, \u001b[39m\"\u001b[39m\u001b[39mwarn\u001b[39m\u001b[39m\"\u001b[39m] \u001b[39mor\u001b[39;00m (\n\u001b[0;32m   1377\u001b[0m     \u001b[39mself\u001b[39m\u001b[39m.\u001b[39mmulti_class \u001b[39m==\u001b[39m \u001b[39m\"\u001b[39m\u001b[39mauto\u001b[39m\u001b[39m\"\u001b[39m\n\u001b[0;32m   1378\u001b[0m     \u001b[39mand\u001b[39;00m (\n\u001b[1;32m   (...)\u001b[0m\n\u001b[0;32m   1381\u001b[0m     )\n\u001b[0;32m   1382\u001b[0m )\n\u001b[0;32m   1383\u001b[0m \u001b[39mif\u001b[39;00m ovr:\n\u001b[1;32m-> 1384\u001b[0m     \u001b[39mreturn\u001b[39;00m \u001b[39msuper\u001b[39;49m()\u001b[39m.\u001b[39;49m_predict_proba_lr(X)\n\u001b[0;32m   1385\u001b[0m \u001b[39melse\u001b[39;00m:\n\u001b[0;32m   1386\u001b[0m     decision \u001b[39m=\u001b[39m \u001b[39mself\u001b[39m\u001b[39m.\u001b[39mdecision_function(X)\n",
      "File \u001b[1;32mc:\\Users\\saurabh\\Desktop\\courses\\customer_analytics\\env\\lib\\site-packages\\sklearn\\linear_model\\_base.py:466\u001b[0m, in \u001b[0;36mLinearClassifierMixin._predict_proba_lr\u001b[1;34m(self, X)\u001b[0m\n\u001b[0;32m    459\u001b[0m \u001b[39mdef\u001b[39;00m \u001b[39m_predict_proba_lr\u001b[39m(\u001b[39mself\u001b[39m, X):\n\u001b[0;32m    460\u001b[0m \u001b[39m    \u001b[39m\u001b[39m\"\"\"Probability estimation for OvR logistic regression.\u001b[39;00m\n\u001b[0;32m    461\u001b[0m \n\u001b[0;32m    462\u001b[0m \u001b[39m    Positive class probabilities are computed as\u001b[39;00m\n\u001b[0;32m    463\u001b[0m \u001b[39m    1. / (1. + np.exp(-self.decision_function(X)));\u001b[39;00m\n\u001b[0;32m    464\u001b[0m \u001b[39m    multiclass is handled by normalizing that over all classes.\u001b[39;00m\n\u001b[0;32m    465\u001b[0m \u001b[39m    \"\"\"\u001b[39;00m\n\u001b[1;32m--> 466\u001b[0m     prob \u001b[39m=\u001b[39m \u001b[39mself\u001b[39;49m\u001b[39m.\u001b[39;49mdecision_function(X)\n\u001b[0;32m    467\u001b[0m     expit(prob, out\u001b[39m=\u001b[39mprob)\n\u001b[0;32m    468\u001b[0m     \u001b[39mif\u001b[39;00m prob\u001b[39m.\u001b[39mndim \u001b[39m==\u001b[39m \u001b[39m1\u001b[39m:\n",
      "File \u001b[1;32mc:\\Users\\saurabh\\Desktop\\courses\\customer_analytics\\env\\lib\\site-packages\\sklearn\\linear_model\\_base.py:432\u001b[0m, in \u001b[0;36mLinearClassifierMixin.decision_function\u001b[1;34m(self, X)\u001b[0m\n\u001b[0;32m    429\u001b[0m check_is_fitted(\u001b[39mself\u001b[39m)\n\u001b[0;32m    430\u001b[0m xp, _ \u001b[39m=\u001b[39m get_namespace(X)\n\u001b[1;32m--> 432\u001b[0m X \u001b[39m=\u001b[39m \u001b[39mself\u001b[39;49m\u001b[39m.\u001b[39;49m_validate_data(X, accept_sparse\u001b[39m=\u001b[39;49m\u001b[39m\"\u001b[39;49m\u001b[39mcsr\u001b[39;49m\u001b[39m\"\u001b[39;49m, reset\u001b[39m=\u001b[39;49m\u001b[39mFalse\u001b[39;49;00m)\n\u001b[0;32m    433\u001b[0m scores \u001b[39m=\u001b[39m safe_sparse_dot(X, \u001b[39mself\u001b[39m\u001b[39m.\u001b[39mcoef_\u001b[39m.\u001b[39mT, dense_output\u001b[39m=\u001b[39m\u001b[39mTrue\u001b[39;00m) \u001b[39m+\u001b[39m \u001b[39mself\u001b[39m\u001b[39m.\u001b[39mintercept_\n\u001b[0;32m    434\u001b[0m \u001b[39mreturn\u001b[39;00m xp\u001b[39m.\u001b[39mreshape(scores, (\u001b[39m-\u001b[39m\u001b[39m1\u001b[39m,)) \u001b[39mif\u001b[39;00m scores\u001b[39m.\u001b[39mshape[\u001b[39m1\u001b[39m] \u001b[39m==\u001b[39m \u001b[39m1\u001b[39m \u001b[39melse\u001b[39;00m scores\n",
      "File \u001b[1;32mc:\\Users\\saurabh\\Desktop\\courses\\customer_analytics\\env\\lib\\site-packages\\sklearn\\base.py:580\u001b[0m, in \u001b[0;36mBaseEstimator._validate_data\u001b[1;34m(self, X, y, reset, validate_separately, cast_to_ndarray, **check_params)\u001b[0m\n\u001b[0;32m    509\u001b[0m \u001b[39mdef\u001b[39;00m \u001b[39m_validate_data\u001b[39m(\n\u001b[0;32m    510\u001b[0m     \u001b[39mself\u001b[39m,\n\u001b[0;32m    511\u001b[0m     X\u001b[39m=\u001b[39m\u001b[39m\"\u001b[39m\u001b[39mno_validation\u001b[39m\u001b[39m\"\u001b[39m,\n\u001b[1;32m   (...)\u001b[0m\n\u001b[0;32m    516\u001b[0m     \u001b[39m*\u001b[39m\u001b[39m*\u001b[39mcheck_params,\n\u001b[0;32m    517\u001b[0m ):\n\u001b[0;32m    518\u001b[0m \u001b[39m    \u001b[39m\u001b[39m\"\"\"Validate input data and set or check the `n_features_in_` attribute.\u001b[39;00m\n\u001b[0;32m    519\u001b[0m \n\u001b[0;32m    520\u001b[0m \u001b[39m    Parameters\u001b[39;00m\n\u001b[1;32m   (...)\u001b[0m\n\u001b[0;32m    578\u001b[0m \u001b[39m        validated.\u001b[39;00m\n\u001b[0;32m    579\u001b[0m \u001b[39m    \"\"\"\u001b[39;00m\n\u001b[1;32m--> 580\u001b[0m     \u001b[39mself\u001b[39;49m\u001b[39m.\u001b[39;49m_check_feature_names(X, reset\u001b[39m=\u001b[39;49mreset)\n\u001b[0;32m    582\u001b[0m     \u001b[39mif\u001b[39;00m y \u001b[39mis\u001b[39;00m \u001b[39mNone\u001b[39;00m \u001b[39mand\u001b[39;00m \u001b[39mself\u001b[39m\u001b[39m.\u001b[39m_get_tags()[\u001b[39m\"\u001b[39m\u001b[39mrequires_y\u001b[39m\u001b[39m\"\u001b[39m]:\n\u001b[0;32m    583\u001b[0m         \u001b[39mraise\u001b[39;00m \u001b[39mValueError\u001b[39;00m(\n\u001b[0;32m    584\u001b[0m             \u001b[39mf\u001b[39m\u001b[39m\"\u001b[39m\u001b[39mThis \u001b[39m\u001b[39m{\u001b[39;00m\u001b[39mself\u001b[39m\u001b[39m.\u001b[39m\u001b[39m__class__\u001b[39m\u001b[39m.\u001b[39m\u001b[39m__name__\u001b[39m\u001b[39m}\u001b[39;00m\u001b[39m estimator \u001b[39m\u001b[39m\"\u001b[39m\n\u001b[0;32m    585\u001b[0m             \u001b[39m\"\u001b[39m\u001b[39mrequires y to be passed, but the target y is None.\u001b[39m\u001b[39m\"\u001b[39m\n\u001b[0;32m    586\u001b[0m         )\n",
      "File \u001b[1;32mc:\\Users\\saurabh\\Desktop\\courses\\customer_analytics\\env\\lib\\site-packages\\sklearn\\base.py:507\u001b[0m, in \u001b[0;36mBaseEstimator._check_feature_names\u001b[1;34m(self, X, reset)\u001b[0m\n\u001b[0;32m    502\u001b[0m \u001b[39mif\u001b[39;00m \u001b[39mnot\u001b[39;00m missing_names \u001b[39mand\u001b[39;00m \u001b[39mnot\u001b[39;00m unexpected_names:\n\u001b[0;32m    503\u001b[0m     message \u001b[39m+\u001b[39m\u001b[39m=\u001b[39m (\n\u001b[0;32m    504\u001b[0m         \u001b[39m\"\u001b[39m\u001b[39mFeature names must be in the same order as they were in fit.\u001b[39m\u001b[39m\\n\u001b[39;00m\u001b[39m\"\u001b[39m\n\u001b[0;32m    505\u001b[0m     )\n\u001b[1;32m--> 507\u001b[0m \u001b[39mraise\u001b[39;00m \u001b[39mValueError\u001b[39;00m(message)\n",
      "\u001b[1;31mValueError\u001b[0m: The feature names should match those that were passed during fit.\nFeature names unseen at fit time:\n- Price_Range\n- Promotion\nFeature names seen at fit time, yet now missing:\n- Mean_Price\n- Mean_Promotion\n"
     ]
    }
   ],
   "source": [
    "Y_promotion = model_incidence_promotion.predict_proba(df_price_elasticity_promotion)"
   ]
  },
  {
   "cell_type": "code",
   "execution_count": null,
   "metadata": {},
   "outputs": [],
   "source": []
  }
 ],
 "metadata": {
  "kernelspec": {
   "display_name": "env",
   "language": "python",
   "name": "python3"
  },
  "language_info": {
   "codemirror_mode": {
    "name": "ipython",
    "version": 3
   },
   "file_extension": ".py",
   "mimetype": "text/x-python",
   "name": "python",
   "nbconvert_exporter": "python",
   "pygments_lexer": "ipython3",
   "version": "3.9.12"
  },
  "orig_nbformat": 4
 },
 "nbformat": 4,
 "nbformat_minor": 2
}
